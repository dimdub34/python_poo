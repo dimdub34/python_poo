{
 "cells": [
  {
   "cell_type": "markdown",
   "id": "88adbc7d-3e1a-4a31-9148-8e25d0b5ace2",
   "metadata": {
    "editable": true,
    "slideshow": {
     "slide_type": "slide"
    },
    "tags": []
   },
   "source": [
    "# Python - POO\n",
    "\n",
    "<img src=\"logo.png\" style=\"height: 200px\" alt=\"Logo Python\">"
   ]
  },
  {
   "cell_type": "markdown",
   "id": "b8b5a785-f0ef-48e2-af23-59f06ba078ab",
   "metadata": {
    "editable": true,
    "slideshow": {
     "slide_type": "subslide"
    },
    "tags": []
   },
   "source": [
    "## Contenu\n",
    "\n",
    "- [Introduction](#/1)\n",
    "- [Classes et Objets](#/2)\n",
    "- [Attributs et Méthodes](#/3)\n",
    "- [Encapsulation](#/4)\n",
    "- [Héritage](#/5)\n",
    "- [Polymorphisme](#/6)\n",
    "- [Méthodes de classe et statiques](#/7)\n",
    "- [Pratique](#/8)\n",
    "- [Sources](#/9)"
   ]
  },
  {
   "cell_type": "markdown",
   "id": "2ac59619-2cbc-484d-914a-757c4ec493eb",
   "metadata": {
    "editable": true,
    "slideshow": {
     "slide_type": "slide"
    },
    "tags": []
   },
   "source": [
    "# Introduction"
   ]
  },
  {
   "cell_type": "markdown",
   "id": "bcf1ecaf-3728-4864-b0f6-626977f9dfaa",
   "metadata": {
    "editable": true,
    "slideshow": {
     "slide_type": "subslide"
    },
    "tags": []
   },
   "source": [
    "## Qu’est-ce que la POO ?\n",
    "\n",
    "- **Paradigme de programmation** : Centré sur des entités appelées **objets**.\n",
    "- Un **objet** représente une entité du monde réel (un étudiant, un compte bancaire, etc.) avec :\n",
    "  - Des **données** (attributs).\n",
    "  - Des **fonctionnalités** (méthodes)."
   ]
  },
  {
   "cell_type": "markdown",
   "id": "94a202af-93dc-4862-847c-4790548e13cc",
   "metadata": {
    "editable": true,
    "slideshow": {
     "slide_type": "subslide"
    },
    "tags": []
   },
   "source": [
    "## Pourquoi la POO ?\n",
    "\n",
    "- Structurer le code de manière **modulaire** et **réutilisable**.\n",
    "- Faciliter la **maintenance** et l’**extension** du code.\n",
    "- Modéliser le problème de façon plus intuitive.\n"
   ]
  },
  {
   "cell_type": "markdown",
   "id": "339629e7-134f-4bbb-98b0-471627d526e9",
   "metadata": {
    "editable": true,
    "slideshow": {
     "slide_type": "slide"
    },
    "tags": []
   },
   "source": [
    "# Classes et Objets"
   ]
  },
  {
   "cell_type": "markdown",
   "id": "7fb56175-63ee-428b-9d6c-5c70f5ab2662",
   "metadata": {
    "editable": true,
    "slideshow": {
     "slide_type": "subslide"
    },
    "tags": []
   },
   "source": [
    "## Classe\n",
    "- Une **classe** est un **plan de construction** (un modèle) pour créer des objets.\n",
    "- Elle définit les attributs et méthodes que les objets auront."
   ]
  },
  {
   "cell_type": "markdown",
   "id": "18365606-4753-4a48-9acc-0e18e39a629e",
   "metadata": {
    "editable": true,
    "slideshow": {
     "slide_type": "subslide"
    },
    "tags": []
   },
   "source": [
    "## Objet\n",
    "- Un **objet** est une **instance** de classe.\n",
    "- Une classe peut être utilisée pour créer plusieurs objets identiques en structure, mais avec des données spécifiques.\n",
    "\n",
    "*Exemple* :"
   ]
  },
  {
   "cell_type": "code",
   "execution_count": 2,
   "id": "6fba75cd-6219-4995-a038-57f203a0592f",
   "metadata": {
    "editable": true,
    "slideshow": {
     "slide_type": ""
    },
    "tags": []
   },
   "outputs": [
    {
     "name": "stdout",
     "output_type": "stream",
     "text": [
      "<__main__.Personne object at 0x7fdba4396190>\n"
     ]
    }
   ],
   "source": [
    "class Personne:\n",
    "    pass\n",
    "\n",
    "# Création d’un objet Personne\n",
    "p = Personne()\n",
    "print(p)  # Objet Personne en mémoire"
   ]
  },
  {
   "cell_type": "markdown",
   "id": "f963f458-4b29-404e-bcb0-16453b673dc5",
   "metadata": {
    "editable": true,
    "slideshow": {
     "slide_type": "slide"
    },
    "tags": []
   },
   "source": [
    "# Attributs et Méthodes"
   ]
  },
  {
   "cell_type": "markdown",
   "id": "b0cea840-9a6b-4bbd-b634-8fe7c4a0f147",
   "metadata": {
    "editable": true,
    "slideshow": {
     "slide_type": "subslide"
    },
    "tags": []
   },
   "source": [
    "## Attributs (variables de classe/instance)\n",
    "- **Attributs d’instance** : Propres à chaque objet.\n",
    "- **Attributs de classe** : Partagés par toutes les instances de la classe."
   ]
  },
  {
   "cell_type": "markdown",
   "id": "ef38df41-e525-4149-82c7-e2cb407ef047",
   "metadata": {
    "editable": true,
    "slideshow": {
     "slide_type": "subslide"
    },
    "tags": []
   },
   "source": [
    "## Méthodes (fonctions dans une classe)\n",
    "- Définies à l’intérieur de la classe.\n",
    "- Le premier paramètre est souvent `self`, représentant l’instance actuelle.\n",
    "\n",
    "*Exemple* :"
   ]
  },
  {
   "cell_type": "code",
   "execution_count": 3,
   "id": "448fc5f2-6e85-4da6-ad8e-291523ac344e",
   "metadata": {
    "editable": true,
    "slideshow": {
     "slide_type": ""
    },
    "tags": []
   },
   "outputs": [
    {
     "name": "stdout",
     "output_type": "stream",
     "text": [
      "Bonjour, je m’appelle Alice et j’ai 25 ans.\n"
     ]
    }
   ],
   "source": [
    "class Personne:\n",
    "    def __init__(self, nom, age):\n",
    "        self.nom = nom   # Attribut d’instance\n",
    "        self.age = age\n",
    "\n",
    "    def se_presenter(self):\n",
    "        print(f\"Bonjour, je m’appelle {self.nom} et j’ai {self.age} ans.\")\n",
    "\n",
    "p1 = Personne(\"Alice\", 25)\n",
    "p1.se_presenter()  # Bonjour, je m’appelle Alice et j’ai 25 ans."
   ]
  },
  {
   "cell_type": "markdown",
   "id": "7003012c-3085-4d42-b512-5ee3400fa73d",
   "metadata": {
    "editable": true,
    "slideshow": {
     "slide_type": "subslide"
    },
    "tags": []
   },
   "source": [
    "## Le Constructeur `__init__`"
   ]
  },
  {
   "cell_type": "markdown",
   "id": "217ecac8-b492-4441-bc60-742f5ae0973f",
   "metadata": {
    "editable": true,
    "slideshow": {
     "slide_type": ""
    },
    "tags": []
   },
   "source": [
    "- `__init__` est une méthode spéciale appelée automatiquement lors de la création d’un objet.\n",
    "- Permet d’initialiser les attributs de l’objet."
   ]
  },
  {
   "cell_type": "markdown",
   "id": "93a237d2-366e-40f7-aba1-d8fba464aad7",
   "metadata": {
    "editable": true,
    "slideshow": {
     "slide_type": "subslide"
    },
    "tags": []
   },
   "source": [
    "*Exemple* :"
   ]
  },
  {
   "cell_type": "code",
   "execution_count": 8,
   "id": "222e6c10-a3c8-4824-aee5-d37ca0d9c844",
   "metadata": {
    "editable": true,
    "slideshow": {
     "slide_type": ""
    },
    "tags": []
   },
   "outputs": [
    {
     "name": "stdout",
     "output_type": "stream",
     "text": [
      "solde :  100\n",
      "solde :  150\n",
      "Fonds insuffisants.\n"
     ]
    }
   ],
   "source": [
    "class CompteBancaire:\n",
    "    def __init__(self, titulaire, solde=0):\n",
    "        self.titulaire = titulaire\n",
    "        self.solde = solde\n",
    "\n",
    "    def deposer(self, montant):\n",
    "        self.solde += montant\n",
    "\n",
    "    def retirer(self, montant):\n",
    "        if montant <= self.solde:\n",
    "            self.solde -= montant\n",
    "        else:\n",
    "            print(\"Fonds insuffisants.\")\n",
    "\n",
    "compte = CompteBancaire(\"Alice\", 100)\n",
    "print(\"solde : \", compte.solde)\n",
    "compte.deposer(50)   # solde = 150\n",
    "print(\"solde : \", compte.solde)\n",
    "compte.retirer(200)  # Fonds insuffisants."
   ]
  },
  {
   "cell_type": "markdown",
   "id": "855945a3-cbdb-4067-bcfc-c05ca9799a0c",
   "metadata": {
    "editable": true,
    "slideshow": {
     "slide_type": "slide"
    },
    "tags": []
   },
   "source": [
    "# Encapsulation"
   ]
  },
  {
   "cell_type": "markdown",
   "id": "b717a9b5-8e60-4cd5-a8cb-9d04e19c21a7",
   "metadata": {
    "editable": true,
    "slideshow": {
     "slide_type": "subslide"
    },
    "tags": []
   },
   "source": [
    "## Principe\n",
    "\n",
    "- Limiter l’accès direct aux attributs d’un objet.\n",
    "- En Python, pas de mots-clés stricts, mais on utilise une convention `_` ou `__` en premier caractère de l'attribut. Dans ce cas l'attribut est considéré comme \"privé\"."
   ]
  },
  {
   "cell_type": "markdown",
   "id": "8701fb04-b642-4e4f-b5df-c37d143c3351",
   "metadata": {
    "editable": true,
    "slideshow": {
     "slide_type": "subslide"
    },
    "tags": []
   },
   "source": [
    "## Propriétés\n",
    "\n",
    "- Utiliser `@property` pour contrôler l’accès aux attributs.\n",
    "- Permet de valider, transformer ou protéger l’accès aux données."
   ]
  },
  {
   "cell_type": "markdown",
   "id": "97ccdea3-36f8-4777-a70a-0a0f75a13465",
   "metadata": {
    "editable": true,
    "slideshow": {
     "slide_type": "subslide"
    },
    "tags": []
   },
   "source": [
    "*Exemple* :"
   ]
  },
  {
   "cell_type": "code",
   "execution_count": 15,
   "id": "1b04a650-6e6f-4bb3-8b9f-db581ae4fc0d",
   "metadata": {
    "editable": true,
    "slideshow": {
     "slide_type": ""
    },
    "tags": []
   },
   "outputs": [
    {
     "name": "stdout",
     "output_type": "stream",
     "text": [
      "Bob\n",
      "Nom invalide.\n",
      "Pierre\n"
     ]
    }
   ],
   "source": [
    "class Personne:\n",
    "    def __init__(self, nom):\n",
    "        self._nom = nom\n",
    "\n",
    "    @property\n",
    "    def nom(self):\n",
    "        return self._nom\n",
    "\n",
    "    @nom.setter\n",
    "    def nom(self, nouveau_nom):\n",
    "        if nouveau_nom:\n",
    "            self._nom = nouveau_nom\n",
    "        else:\n",
    "            print(\"Nom invalide.\")\n",
    "\n",
    "p = Personne(\"Bob\")\n",
    "print(p.nom)\n",
    "p.nom = \"\"  # Nom invalide car vide\n",
    "p.nom = \"Pierre\"\n",
    "print(p.nom)"
   ]
  },
  {
   "cell_type": "markdown",
   "id": "b011ad51-e50e-405f-b9a1-2cbc0f890f1b",
   "metadata": {
    "editable": true,
    "slideshow": {
     "slide_type": "slide"
    },
    "tags": []
   },
   "source": [
    "# Héritage"
   ]
  },
  {
   "cell_type": "markdown",
   "id": "3bc0275b-7819-4f92-bdde-f7fe61585731",
   "metadata": {
    "editable": true,
    "slideshow": {
     "slide_type": "subslide"
    },
    "tags": []
   },
   "source": [
    "## Principe \n",
    "\n",
    "- Créer une **classe fille** à partir d’une **classe mère**.\n",
    "- La classe fille hérite des attributs et méthodes de la classe mère.\n",
    "- Permet de réutiliser du code et de créer une hiérarchie logique.\n",
    "\n",
    "*Syntaxe* : "
   ]
  },
  {
   "cell_type": "code",
   "execution_count": 1,
   "id": "f9e993f1-dbc4-4eb6-8cf6-8edc6228b5ab",
   "metadata": {
    "editable": true,
    "slideshow": {
     "slide_type": ""
    },
    "tags": []
   },
   "outputs": [
    {
     "name": "stdout",
     "output_type": "stream",
     "text": [
      "Méthode de la classe mère\n",
      "Méthode de la classe fille\n"
     ]
    }
   ],
   "source": [
    "class Mere:\n",
    "    def methode_mere(self):\n",
    "        print(\"Méthode de la classe mère\")\n",
    "\n",
    "class Fille(Mere):\n",
    "    def methode_fille(self):\n",
    "        print(\"Méthode de la classe fille\")\n",
    "\n",
    "obj = Fille()\n",
    "obj.methode_mere()  # Hérité de Mere\n",
    "obj.methode_fille()"
   ]
  },
  {
   "cell_type": "markdown",
   "id": "30cb2d77-d6c0-424d-b59a-b4da2aef7989",
   "metadata": {
    "editable": true,
    "slideshow": {
     "slide_type": "subslide"
    },
    "tags": []
   },
   "source": [
    "## Exemple"
   ]
  },
  {
   "cell_type": "code",
   "execution_count": 28,
   "id": "a4b75b24-31e3-4358-b6a1-e4db9c964c29",
   "metadata": {
    "editable": true,
    "fontsize": "0.5em;",
    "slideshow": {
     "slide_type": ""
    },
    "tags": []
   },
   "outputs": [],
   "source": [
    "# Classe Mère\n",
    "class CompteBancaire:\n",
    "    def __init__(self, titulaire, solde=0):\n",
    "        self.titulaire = titulaire\n",
    "        self.solde = solde\n",
    "\n",
    "    def deposer(self, montant):\n",
    "        if montant > 0:\n",
    "            self.solde += montant\n",
    "            print(f\"{montant}€ déposés. Nouveau solde : {self.solde}€.\")\n",
    "        else:\n",
    "            print(\"Montant invalide pour le dépôt.\")\n",
    "\n",
    "    def retirer(self, montant):\n",
    "        if montant > 0 and montant <= self.solde:\n",
    "            self.solde -= montant\n",
    "            print(f\"{montant}€ retirés. Nouveau solde : {self.solde}€.\")\n",
    "        else:\n",
    "            print(\"Fonds insuffisants ou montant invalide.\")\n",
    "\n",
    "    def afficher_solde(self):\n",
    "        print(f\"Solde du compte de {self.titulaire} : {self.solde}€.\")"
   ]
  },
  {
   "cell_type": "code",
   "execution_count": 27,
   "id": "a25c6a53-ad01-424b-b6ef-3e99e6a32b39",
   "metadata": {
    "editable": true,
    "slideshow": {
     "slide_type": "subslide"
    },
    "tags": []
   },
   "outputs": [],
   "source": [
    "# Classe fille : CompteCourant\n",
    "class CompteCourant(CompteBancaire):\n",
    "    def __init__(self, titulaire, solde=0, plafond_decouvert=500):\n",
    "        super().__init__(titulaire, solde)\n",
    "        self.plafond_decouvert = plafond_decouvert\n",
    "\n",
    "    def retirer(self, montant):\n",
    "        if montant > 0 and (self.solde - montant) >= -self.plafond_decouvert:\n",
    "            self.solde -= montant\n",
    "            print(f\"{montant}€ retirés. Nouveau solde : {self.solde}€.\")\n",
    "        else:\n",
    "            print(\"Montant invalide ou plafond de découvert atteint.\")\n",
    "\n",
    "# Classe fille : CompteEpargne\n",
    "class CompteEpargne(CompteBancaire):\n",
    "    def __init__(self, titulaire, solde=0, taux_interet=0.02):\n",
    "        super().__init__(titulaire, solde)\n",
    "        self.taux_interet = taux_interet\n",
    "\n",
    "    def calculer_interets(self):\n",
    "        interets = self.solde * self.taux_interet\n",
    "        self.solde += interets\n",
    "        print(f\"Intérêts de {interets:.2f}€ ajoutés. Nouveau solde : {self.solde}€.\")"
   ]
  },
  {
   "cell_type": "code",
   "execution_count": 20,
   "id": "8f260222-6413-4b1a-92a6-c7cccad085d4",
   "metadata": {
    "editable": true,
    "slideshow": {
     "slide_type": "subslide"
    },
    "tags": []
   },
   "outputs": [
    {
     "name": "stdout",
     "output_type": "stream",
     "text": [
      "Solde du compte de Alice : 1000€.\n",
      "1100€ retirés. Nouveau solde : -100€.\n",
      "Montant invalide ou plafond de découvert atteint.\n",
      "Solde du compte de Alice : -100€.\n",
      "\n",
      "Solde du compte de Bob : 2000€.\n",
      "Intérêts de 60.00€ ajoutés. Nouveau solde : 2060.0€.\n",
      "500€ retirés. Nouveau solde : 1560.0€.\n",
      "Solde du compte de Bob : 1560.0€.\n"
     ]
    }
   ],
   "source": [
    "# Création des comptes\n",
    "compte1 = CompteCourant(\"Alice\", 1000, 200)\n",
    "compte2 = CompteEpargne(\"Bob\", 2000, 0.03)\n",
    "\n",
    "# Opérations sur le compte courant\n",
    "compte1.afficher_solde()\n",
    "compte1.retirer(1100)  # Retrait valide avec découvert\n",
    "compte1.retirer(200)   # Retrait invalide\n",
    "compte1.afficher_solde()\n",
    "\n",
    "print(\"\")\n",
    "\n",
    "# Opérations sur le compte épargne\n",
    "compte2.afficher_solde()\n",
    "compte2.calculer_interets()  # Ajout des intérêts\n",
    "compte2.retirer(500)         # Retrait valide\n",
    "compte2.afficher_solde()"
   ]
  },
  {
   "cell_type": "markdown",
   "id": "fa233df2-31e2-4fca-a374-b8d8934c367d",
   "metadata": {
    "editable": true,
    "slideshow": {
     "slide_type": "subslide"
    },
    "tags": []
   },
   "source": [
    "**Classe Mère CompteBancaire** : Contient les fonctionnalités communes : dépôt, retrait, affichage du solde.\n",
    "\n",
    "**Classe fille CompteCourant** :\n",
    "\n",
    "- Hérite de CompteBancaire.\n",
    "- Modifie la méthode retirer pour gérer un plafond de découvert.\n",
    "\n",
    "**Classe fille CompteEpargne** :\n",
    "\n",
    "- Hérite de CompteBancaire.\n",
    "- Ajoute une méthode spécifique calculer_interets pour appliquer un taux d’intérêt au solde.\n",
    "\n",
    "---\n",
    "\n",
    "**`super()`**\n",
    "\n",
    "- `super()` est une fonction utilisée pour accéder aux méthodes et attributs de la classe parente (ou superclasse) depuis une classe enfant.\n",
    "- `super().__init__(titulaire, solde)` est utilisée pour initialiser les attributs titulaire et solde définis dans la classe parente (CompteBancaire)"
   ]
  },
  {
   "cell_type": "markdown",
   "id": "c965575a-f118-442a-869f-66fdba25282e",
   "metadata": {
    "editable": true,
    "slideshow": {
     "slide_type": "subslide"
    },
    "tags": []
   },
   "source": [
    "## Avantages\n",
    "\n",
    "- **Réutilisation du code** : Les fonctionnalités communes sont définies dans la classe de base.\n",
    "- **Spécificité des comportements** : Chaque type de compte implémente ses particularités sans dupliquer le code.\n",
    "- **Extensibilité** : Ajouter un nouveau type de compte (ex. : Compte Joint) serait simple grâce à cette structure."
   ]
  },
  {
   "cell_type": "markdown",
   "id": "5b60aa7c-7ccc-429f-ace3-c21a3f32ec52",
   "metadata": {
    "editable": true,
    "slideshow": {
     "slide_type": "slide"
    },
    "tags": []
   },
   "source": [
    "# Le polymorphisme"
   ]
  },
  {
   "cell_type": "markdown",
   "id": "fa35a3cb-d223-4717-b425-a154d2320ec6",
   "metadata": {
    "editable": true,
    "slideshow": {
     "slide_type": "subslide"
    },
    "tags": []
   },
   "source": [
    "## Principe\n",
    "\n",
    "**Polymorphisme** signifie \"plusieurs formes\". C'est une caractéristique qui permet d'utiliser une même méthode ou interface pour des objets de types différents. Cela permet d'écrire du code générique, modulaire, et facilement extensible.\n",
    "\n",
    "*Exemple* :"
   ]
  },
  {
   "cell_type": "code",
   "execution_count": 2,
   "id": "a4d71eed-deec-4a3f-97f6-75b297a12629",
   "metadata": {
    "editable": true,
    "slideshow": {
     "slide_type": ""
    },
    "tags": []
   },
   "outputs": [
    {
     "name": "stdout",
     "output_type": "stream",
     "text": [
      "Miaou\n",
      "Ouaf\n"
     ]
    }
   ],
   "source": [
    "class Chat:\n",
    "    def parler(self):\n",
    "        print(\"Miaou\")\n",
    "\n",
    "class Chien:\n",
    "    def parler(self):\n",
    "        print(\"Ouaf\")\n",
    "\n",
    "def faire_parler(animal):\n",
    "    animal.parler()\n",
    "\n",
    "faire_parler(Chat())  # Miaou\n",
    "faire_parler(Chien()) # Ouaf"
   ]
  },
  {
   "cell_type": "markdown",
   "id": "b92e1fc3-e6eb-4bee-83bc-e2e5c4e6d536",
   "metadata": {
    "editable": true,
    "slideshow": {
     "slide_type": ""
    },
    "tags": []
   },
   "source": [
    "La fonction `faire_parler` accepte tout objet avec une méthode `parler`."
   ]
  },
  {
   "cell_type": "markdown",
   "id": "450a3613-bab5-4fe9-a3bb-0858acac54cb",
   "metadata": {
    "editable": true,
    "slideshow": {
     "slide_type": "subslide"
    },
    "tags": []
   },
   "source": [
    "## Utilité\n",
    "\n",
    "- **Simplifie le code** : Au lieu d'écrire du code spécifique pour chaque type d'objet, vous pouvez écrire un code générique qui fonctionne avec plusieurs types d'objets.\n",
    "- **Facilite l'extensibilité** : En ajoutant de nouvelles classes, vous pouvez conserver la compatibilité avec du code existant sans le modifier.\n",
    "- **Encourage l'utilisation d'interfaces communes** : Les classes qui partagent un comportement similaire peuvent implémenter ou hériter des mêmes méthodes, permettant une utilisation interchangeable.\n",
    "- **Réduction des erreurs** : Grâce à des structures uniformes, le polymorphisme permet d’éviter des duplications de code susceptibles de générer des erreurs.\n"
   ]
  },
  {
   "cell_type": "markdown",
   "id": "a9c442da-2699-4d24-a0bb-e171c6986de7",
   "metadata": {
    "editable": true,
    "slideshow": {
     "slide_type": "subslide"
    },
    "tags": []
   },
   "source": [
    "## Exemple d'utilisation\n",
    "\n",
    "Supposons des classes pour des formes géométriques : Rectangle, Cercle, et Triangle. Chaque forme doit calculer son aire, mais la formule est différente."
   ]
  },
  {
   "cell_type": "code",
   "execution_count": 7,
   "id": "79cbf0e2-afb7-4819-ba3f-033344762eb4",
   "metadata": {
    "editable": true,
    "slideshow": {
     "slide_type": "subslide"
    },
    "tags": []
   },
   "outputs": [
    {
     "name": "stdout",
     "output_type": "stream",
     "text": [
      "Aire : 50\n",
      "Aire : 153.86\n",
      "Aire : 24.0\n"
     ]
    }
   ],
   "source": [
    "class Rectangle:\n",
    "    def __init__(self, largeur, hauteur):\n",
    "        self.largeur = largeur\n",
    "        self.hauteur = hauteur\n",
    "\n",
    "    def aire(self):\n",
    "        return self.largeur * self.hauteur\n",
    "\n",
    "class Cercle:\n",
    "    def __init__(self, rayon):\n",
    "        self.rayon = rayon\n",
    "\n",
    "    def aire(self):\n",
    "        return 3.14 * self.rayon**2\n",
    "\n",
    "class Triangle:\n",
    "    def __init__(self, base, hauteur):\n",
    "        self.base = base\n",
    "        self.hauteur = hauteur\n",
    "\n",
    "    def aire(self):\n",
    "        return 0.5 * self.base * self.hauteur\n",
    "\n",
    "# Fonction polymorphe\n",
    "def afficher_aire(forme):\n",
    "    print(f\"Aire : {forme.aire()}\")\n",
    "\n",
    "# Utilisation\n",
    "rectangle = Rectangle(5, 10)\n",
    "cercle = Cercle(7)\n",
    "triangle = Triangle(6, 8)\n",
    "\n",
    "afficher_aire(rectangle)  # Aire : 50\n",
    "afficher_aire(cercle)     # Aire : 153.86\n",
    "afficher_aire(triangle)   # Aire : 24.0\n"
   ]
  },
  {
   "cell_type": "markdown",
   "id": "49e8c629-7cfb-41f5-88b2-f63af361686f",
   "metadata": {
    "editable": true,
    "slideshow": {
     "slide_type": "slide"
    },
    "tags": []
   },
   "source": [
    "# Méthodes de classe et statiques"
   ]
  },
  {
   "cell_type": "markdown",
   "id": "18a357b7-184a-412c-ad82-e783e05b6cc9",
   "metadata": {
    "editable": true,
    "slideshow": {
     "slide_type": "subslide"
    },
    "tags": []
   },
   "source": [
    "Les méthodes de classe et les méthodes statiques servent à **fournir des fonctionnalités liées à une classe en elle-même, plutôt qu’à une instance particulière de cette classe**. Elles permettent de structurer le code en regroupant des fonctionnalités qui n’ont pas besoin de dépendre des attributs d’instance."
   ]
  },
  {
   "cell_type": "markdown",
   "id": "a55824c5-7417-48e1-ae5e-a294c1704e86",
   "metadata": {
    "editable": true,
    "slideshow": {
     "slide_type": "subslide"
    },
    "tags": []
   },
   "source": [
    "## Méthode de classe (`@classmethod`)\n",
    "\n",
    "- Reçoit la classe elle-même comme premier argument (conventionnellement `cls`).\n",
    "- Utilisée pour des opérations liées à la classe plutôt qu’aux instances :\n",
    "    - Créer des objets par des chemins alternatifs, comme par exemple créer une instance à partir de données sérialisées (JSON, CSV).\n",
    "    - Manipuler des attributs de classe : accéder ou modifier des variables partagées par toutes les instances."
   ]
  },
  {
   "cell_type": "code",
   "execution_count": 9,
   "id": "12841c28-f601-4a76-b543-eff5661ccbaf",
   "metadata": {
    "editable": true,
    "slideshow": {
     "slide_type": ""
    },
    "tags": []
   },
   "outputs": [
    {
     "name": "stdout",
     "output_type": "stream",
     "text": [
      "Méthode de classe (clas <class '__main__.Outils'>).\n"
     ]
    }
   ],
   "source": [
    "class Outils:\n",
    "    @classmethod\n",
    "    def info_classe(cls):\n",
    "        print(f\"Méthode de classe (clas {cls}).\")\n",
    "\n",
    "Outils.info_classe()"
   ]
  },
  {
   "cell_type": "markdown",
   "id": "cea39a30-3ae2-4176-b07e-6b2e62d8c849",
   "metadata": {
    "editable": true,
    "slideshow": {
     "slide_type": "subslide"
    },
    "tags": []
   },
   "source": [
    "*Exemple 1* : création d'instance alternative"
   ]
  },
  {
   "cell_type": "code",
   "execution_count": 12,
   "id": "3817bcd5-d6f6-4856-8f99-e51932901254",
   "metadata": {
    "editable": true,
    "slideshow": {
     "slide_type": ""
    },
    "tags": []
   },
   "outputs": [
    {
     "name": "stdout",
     "output_type": "stream",
     "text": [
      "Alice 30\n"
     ]
    }
   ],
   "source": [
    "class Personne:\n",
    "    def __init__(self, nom, age):\n",
    "        self.nom = nom\n",
    "        self.age = age\n",
    "\n",
    "    @classmethod\n",
    "    def depuis_chaine(cls, chaine):\n",
    "        nom, age = chaine.split(\",\")\n",
    "        return cls(nom, int(age))\n",
    "\n",
    "# Utilisation\n",
    "p = Personne.depuis_chaine(\"Alice,30\")\n",
    "print(p.nom, p.age)  # Alice 30"
   ]
  },
  {
   "cell_type": "markdown",
   "id": "52a68d82-646c-4fb2-84f3-9905c1be3682",
   "metadata": {
    "editable": true,
    "slideshow": {
     "slide_type": ""
    },
    "tags": []
   },
   "source": [
    "La méthode `depuis_chaine` permet de créer une `Personne` depuis une chaîne formatée, sans modifier le constructeur principal."
   ]
  },
  {
   "cell_type": "markdown",
   "id": "b65d349d-d6f1-4c41-8154-d6867fbedba3",
   "metadata": {
    "editable": true,
    "slideshow": {
     "slide_type": "subslide"
    },
    "tags": []
   },
   "source": [
    "*Exemple 2* : Modification d'un attribut de classe"
   ]
  },
  {
   "cell_type": "code",
   "execution_count": 13,
   "id": "2a682542-08d8-4dbf-8519-5ee7947dfc6f",
   "metadata": {
    "editable": true,
    "slideshow": {
     "slide_type": ""
    },
    "tags": []
   },
   "outputs": [
    {
     "name": "stdout",
     "output_type": "stream",
     "text": [
      "0.05\n",
      "0.07\n"
     ]
    }
   ],
   "source": [
    "class CompteBancaire:\n",
    "    taux_interet = 0.05  # Attribut de classe\n",
    "\n",
    "    def __init__(self, solde):\n",
    "        self.solde = solde\n",
    "\n",
    "    @classmethod\n",
    "    def changer_taux(cls, nouveau_taux):\n",
    "        cls.taux_interet = nouveau_taux\n",
    "\n",
    "# Utilisation\n",
    "print(CompteBancaire.taux_interet)  # 0.05\n",
    "CompteBancaire.changer_taux(0.07)\n",
    "print(CompteBancaire.taux_interet)  # 0.07"
   ]
  },
  {
   "cell_type": "markdown",
   "id": "929d7150-d027-4d24-aa37-d7c7935f423e",
   "metadata": {
    "editable": true,
    "slideshow": {
     "slide_type": ""
    },
    "tags": []
   },
   "source": [
    "La méthode changer_taux modifie l’attribut taux_interet pour toutes les instances."
   ]
  },
  {
   "cell_type": "markdown",
   "id": "0bb8e029-a749-4d2b-8ff7-318315451a99",
   "metadata": {
    "editable": true,
    "slideshow": {
     "slide_type": "subslide"
    },
    "tags": []
   },
   "source": [
    "## Méthode statique (`@staticmethod`)\n",
    "\n",
    "- Fonction placée à l'intérieur d'une classe, mais qui ne dépend ni de l’instance ni de la classe. \n",
    "- Ne reçoit ni instance (`self`) ni classe (`cls`).\n",
    "- Fonction avec un lien logique avec la classe, mais pas besoin d’accès aux attributs d’instance ou de classe.\n",
    "- Plutôt que d’avoir une fonction utilitaire en dehors de la classe, vous pouvez la regrouper dans la classe.\n",
    "\n",
    "*Exemple* :"
   ]
  },
  {
   "cell_type": "code",
   "execution_count": 11,
   "id": "9e591a16-7872-4e3f-b8d6-7d5895693103",
   "metadata": {
    "editable": true,
    "slideshow": {
     "slide_type": ""
    },
    "tags": []
   },
   "outputs": [
    {
     "name": "stdout",
     "output_type": "stream",
     "text": [
      "Méthode statique.\n"
     ]
    }
   ],
   "source": [
    "class Outils:\n",
    "    @staticmethod\n",
    "    def info():\n",
    "        print(\"Méthode statique.\")\n",
    "\n",
    "Outils.info()"
   ]
  },
  {
   "cell_type": "markdown",
   "id": "ae6bb313-a64d-44f3-869a-bb479a9bdab5",
   "metadata": {
    "editable": true,
    "slideshow": {
     "slide_type": "subslide"
    },
    "tags": []
   },
   "source": [
    "*Exemple 1* :"
   ]
  },
  {
   "cell_type": "code",
   "execution_count": 14,
   "id": "6347d984-385e-4e99-b88d-37a39bac4e90",
   "metadata": {
    "editable": true,
    "slideshow": {
     "slide_type": ""
    },
    "tags": []
   },
   "outputs": [
    {
     "name": "stdout",
     "output_type": "stream",
     "text": [
      "12\n"
     ]
    }
   ],
   "source": [
    "class Mathematiques:\n",
    "    @staticmethod\n",
    "    def ajouter(a, b):\n",
    "        return a + b\n",
    "\n",
    "# Utilisation\n",
    "print(Mathematiques.ajouter(5, 7))  # 12"
   ]
  },
  {
   "cell_type": "markdown",
   "id": "ad7dfd80-4f0e-4ad1-ba9a-916c985933e6",
   "metadata": {
    "editable": true,
    "slideshow": {
     "slide_type": ""
    },
    "tags": []
   },
   "source": [
    "La méthode `ajouter` est placée dans la classe `Mathematiques` pour des raisons logiques, mais elle n’a pas besoin de l’instance ni de la classe."
   ]
  },
  {
   "cell_type": "markdown",
   "id": "429a6c19-65f1-46ef-8494-fd057a605cea",
   "metadata": {
    "editable": true,
    "slideshow": {
     "slide_type": "subslide"
    },
    "tags": []
   },
   "source": [
    "*Exemple 2* : "
   ]
  },
  {
   "cell_type": "code",
   "execution_count": 15,
   "id": "e783c817-6b80-444f-94c4-9dc3339715cc",
   "metadata": {
    "editable": true,
    "slideshow": {
     "slide_type": ""
    },
    "tags": []
   },
   "outputs": [
    {
     "name": "stdout",
     "output_type": "stream",
     "text": [
      "True\n",
      "False\n"
     ]
    }
   ],
   "source": [
    "class Personne:\n",
    "    def __init__(self, nom, age):\n",
    "        self.nom = nom\n",
    "        self.age = age\n",
    "\n",
    "    @staticmethod\n",
    "    def est_majeur(age):\n",
    "        return age >= 18\n",
    "\n",
    "# Utilisation\n",
    "print(Personne.est_majeur(20))  # True\n",
    "print(Personne.est_majeur(15))  # False\n"
   ]
  },
  {
   "cell_type": "markdown",
   "id": "dd0fc6c4-9a57-4cce-a95e-2efe89af5413",
   "metadata": {
    "editable": true,
    "slideshow": {
     "slide_type": ""
    },
    "tags": []
   },
   "source": [
    "La méthode est_majeur est liée à la classe `Personne`, mais elle ne dépend d’aucune donnée spécifique à une instance."
   ]
  },
  {
   "cell_type": "markdown",
   "id": "9100579f-4748-4806-8e49-68bcfe065f48",
   "metadata": {
    "editable": true,
    "slideshow": {
     "slide_type": "slide"
    },
    "tags": []
   },
   "source": [
    "# Pratique"
   ]
  },
  {
   "cell_type": "markdown",
   "id": "6142e6e4-8e89-47ea-a6bf-05a2877cb907",
   "metadata": {
    "editable": true,
    "slideshow": {
     "slide_type": "subslide"
    },
    "tags": []
   },
   "source": [
    "## Exercice 1 : Création de classe\n",
    "\n",
    "- Créez une classe nommée Voiture avec les attributs suivants :\n",
    "    - marque (string)\n",
    "    - modèle (string)\n",
    "    - année (int)\n",
    "    - kilométrage (int, par défaut 0).\n",
    "- Ajoutez une méthode afficher_info pour afficher les informations de la voiture.\n",
    "- Créez un objet de type Voiture et testez la méthode afficher_info."
   ]
  },
  {
   "cell_type": "markdown",
   "id": "214384be-a19a-45e6-8008-9293c86b7454",
   "metadata": {
    "editable": true,
    "slideshow": {
     "slide_type": "subslide"
    },
    "tags": []
   },
   "source": [
    "## Exercice 2 : Ajout d'attibuts et méthodes\n",
    "\n",
    "- Modifiez la classe Voiture pour inclure une méthode conduire qui prend une distance en kilomètres et met à jour le kilométrage.\n",
    "- Ajoutez une méthode age qui calcule l’âge de la voiture."
   ]
  },
  {
   "cell_type": "code",
   "execution_count": 5,
   "id": "12eb5ca0-079d-4073-a8c7-97daafc9887a",
   "metadata": {
    "editable": true,
    "slideshow": {
     "slide_type": ""
    },
    "tags": []
   },
   "outputs": [
    {
     "name": "stdout",
     "output_type": "stream",
     "text": [
      "2024\n"
     ]
    }
   ],
   "source": [
    "from datetime import datetime\n",
    "\n",
    "annee_courante = datetime.now().year\n",
    "print(annee_courante)"
   ]
  },
  {
   "cell_type": "markdown",
   "id": "a91700be-393a-485b-af7a-44071b145ec2",
   "metadata": {
    "editable": true,
    "slideshow": {
     "slide_type": "subslide"
    },
    "tags": []
   },
   "source": [
    "## Exercice 3 : Encapsulation\n",
    "\n",
    "- Modifiez la classe Voiture pour rendre kilométrage privé (_kilométrage).\n",
    "- Ajoutez des méthodes get_kilométrage et set_kilométrage pour accéder et modifier cet attribut.\n",
    "- Testez ces méthodes pour vérifier qu'elles fonctionnent correctement."
   ]
  },
  {
   "cell_type": "markdown",
   "id": "5e7483b4-030d-446c-9880-4a0878a523d4",
   "metadata": {
    "editable": true,
    "slideshow": {
     "slide_type": "subslide"
    },
    "tags": []
   },
   "source": [
    "## Exercice 4 : Héritage\n",
    "\n",
    "- Créez une classe VoitureElectrique qui hérite de Voiture et ajoute :\n",
    "    - un attribut supplémentaire autonomie (int).\n",
    "    - une méthode recharger qui réinitialise l’autonomie à 100.\n",
    "- Créez un objet VoitureElectrique, testez ses attributs et méthodes, y compris ceux hérités de Voiture."
   ]
  },
  {
   "cell_type": "markdown",
   "id": "98984e19-2ba3-4e82-860a-7d8c988fb583",
   "metadata": {
    "editable": true,
    "slideshow": {
     "slide_type": "subslide"
    },
    "tags": []
   },
   "source": [
    "## Exercice 5 : Polymorphisme\n",
    "\n",
    "- Ajoutez une méthode son dans la classe Voiture qui imprime \"Vroooom\".\n",
    "- Redéfinissez son dans la classe VoitureElectrique pour qu’elle imprime \"Bzzz\".\n",
    "- Créez une fonction faire_du_bruit qui accepte une instance de voiture et appelle sa méthode son."
   ]
  },
  {
   "cell_type": "markdown",
   "id": "a6d08300-a9e8-469d-b754-b1655d29f594",
   "metadata": {
    "editable": true,
    "slideshow": {
     "slide_type": "subslide"
    },
    "tags": []
   },
   "source": [
    "## Exercice 6 : Méthode de classe\n",
    "\n",
    "Créez une classe `Personne`, qui contient : \n",
    "\n",
    "- Un constructeur `__init__` avec les attributs : nom, age.\n",
    "- Une méthode de classe `depuis_chaine` qui prend une chaîne formatée (\"Nom,Age\") et retourne une instance de Personne.\n",
    "- Ajoutez une méthode d’instance `se_presenter` qui affiche : `\"Bonjour, je m'appelle [Nom] et j'ai [Age] ans.\"`\n",
    "- Testez en créant une instance via le constructeur normal et une autre via la méthode de classe.\n",
    "\n"
   ]
  },
  {
   "cell_type": "markdown",
   "id": "1d908d89-cec2-4272-a58c-fe69af9e023a",
   "metadata": {
    "editable": true,
    "slideshow": {
     "slide_type": "subslide"
    },
    "tags": []
   },
   "source": [
    "## Exercice 7 :  Méthode statique\n",
    "\n",
    "Créez une classe Mathematiques avec :\n",
    "\n",
    "- Une méthode statique est_pair qui prend un entier et retourne True si le nombre est pair, False sinon.\n",
    "- Une méthode statique est_divisible_par qui prend deux entiers a et b et retourne True si a est divisible par b.\n",
    "- Testez ces méthodes avec différents nombres."
   ]
  },
  {
   "cell_type": "markdown",
   "id": "b39ff25a-c680-4c67-8373-f0e4a6938815",
   "metadata": {
    "editable": true,
    "slideshow": {
     "slide_type": "slide"
    },
    "tags": []
   },
   "source": [
    "# Sources\n",
    "\n",
    "- [Developpez.com](https://python.developpez.com/cours/)\n",
    "- [openclassroom](https://openclassrooms.com/fr/courses/7150616-apprenez-la-programmation-orientee-objet-avec-python)\n",
    "- [Python doctor](https://python.doctor/page-apprendre-programmation-orientee-objet-poo-classes-python-cours-debutants)\n",
    "- [Vidéo Youtube (2h30)](https://youtu.be/Y-wXK0Wu5pc?si=trzVsu6Y1lNm-Z8j)\n",
    "- [Vidéo Youtube (20 min)](https://youtu.be/7p8yD__Qrwc?si=RHfTo33U7a_0w91s)"
   ]
  }
 ],
 "metadata": {
  "kernelspec": {
   "display_name": "Python 3 (ipykernel)",
   "language": "python",
   "name": "python3"
  },
  "language_info": {
   "codemirror_mode": {
    "name": "ipython",
    "version": 3
   },
   "file_extension": ".py",
   "mimetype": "text/x-python",
   "name": "python",
   "nbconvert_exporter": "python",
   "pygments_lexer": "ipython3",
   "version": "3.9.13"
  }
 },
 "nbformat": 4,
 "nbformat_minor": 5
}
